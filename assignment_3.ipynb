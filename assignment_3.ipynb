{
 "cells": [
  {
   "cell_type": "code",
   "execution_count": 14,
   "id": "1da1d27f-67d9-4358-a3b8-816df99d40b5",
   "metadata": {},
   "outputs": [],
   "source": [
    "import cv2\n",
    "import os\n",
    "\n",
    "def sobel_edge_detection():\n",
    "    img = cv2.imread('lambo.png')\n",
    "    if img is None:\n",
    "        raise ValueError(\"Image not found or unable to read\")\n",
    "\n",
    "    img_gray = cv2.cvtColor(img, cv2.COLOR_BGR2GRAY)\n",
    "    img_blur = cv2.GaussianBlur(img_gray, ksize=(3,3), sigmaX=0)\n",
    "    sobel = cv2.Sobel(src=img_blur, ddepth=cv2.CV_64F, dx=1, dy=1, ksize=1)\n",
    "    sobel_abs = cv2.convertScaleAbs(sobel)\n",
    "    cv2.imwrite('sobel_lamborghini_edges.png', sobel_abs)\n",
    "sobel_edge_detection()"
   ]
  },
  {
   "cell_type": "code",
   "execution_count": 16,
   "id": "0ac1328b-bef7-407f-b2cb-e33c3430461f",
   "metadata": {},
   "outputs": [],
   "source": [
    "import cv2\n",
    "import os\n",
    "\n",
    "def canny_edge_detection(image_path, threshold_1=50, threshold_2=50):\n",
    "    img = cv2.imread(image_path)\n",
    "    if img is None:\n",
    "        raise ValueError(\"Image not found or unable to read\")\n",
    "    \n",
    "    img_gray = cv2.cvtColor(img, cv2.COLOR_BGR2GRAY)\n",
    "    img_blur = cv2.GaussianBlur(img_gray, ksize=(3,3), sigmaX=0)\n",
    "    \n",
    "    edges = cv2.Canny(image=img_blur, threshold1=threshold_1, threshold2=threshold_2)\n",
    "    cv2.imwrite('canny_edges.png', edges)\n",
    "canny_edge_detection('lambo.png', threshold_1=50, threshold_2=50)\n"
   ]
  },
  {
   "cell_type": "code",
   "execution_count": 19,
   "id": "43d5ae07-c2d9-4bb5-b7fd-224f7c4b62a4",
   "metadata": {},
   "outputs": [
    {
     "name": "stdout",
     "output_type": "stream",
     "text": [
      "Matched image saved as matched_shapes.png\n"
     ]
    }
   ],
   "source": [
    "import cv2\n",
    "import numpy as np\n",
    "\n",
    "def template_match(image_path, template_path):\n",
    "    img_gray = cv2.imread('shapes-1.png', cv2.IMREAD_GRAYSCALE)\n",
    "    template_gray = cv2.imread('shapes_template.jpg', cv2.IMREAD_GRAYSCALE)\n",
    "    if img_gray is None or template_gray is None:\n",
    "        raise ValueError(\"Image or Template not found or unable to read\")\n",
    "    \n",
    "    w, h = template_gray.shape[::-1]\n",
    "    res = cv2.matchTemplate(img_gray, template_gray, cv2.TM_CCOEFF_NORMED)\n",
    "    \n",
    "    threshold = 0.9\n",
    "    loc = np.where(res >= threshold)\n",
    "    img_color = cv2.cvtColor(img_gray, cv2.COLOR_GRAY2BGR)\n",
    "    for pt in zip(*loc[::-1]):  \n",
    "        cv2.rectangle(img_color, pt, (pt[0] + w, pt[1] + h), (0, 0, 255), 2)\n",
    "    cv2.imwrite('matched_shapes.png', img_color)\n",
    "    print(\"Matched image saved as matched_shapes.png\")\n",
    "template_match('shapes-1.png', 'shapes_template.jpg')"
   ]
  },
  {
   "cell_type": "code",
   "execution_count": 24,
   "id": "a8faad26-41f8-4e8a-a56c-85ff392a29ba",
   "metadata": {},
   "outputs": [],
   "source": [
    "import cv2\n",
    "def resize(scale_factor, up_or_down):\n",
    "    img = cv2.imread('lambo.png')\n",
    "    if img is None:\n",
    "        raise ValueError(\"Image not found or unable to read\")\n",
    "    output_img = img.copy()\n",
    "    if up_or_down == \"up\":\n",
    "        for _ in range(scale_factor):\n",
    "            output_img = cv2.pyrUp(output_img)\n",
    "    elif up_or_down == \"down\":\n",
    "        for _ in range(scale_factor):\n",
    "            output_img = cv2.pyrDown(output_img)\n",
    "    else:\n",
    "        raise ValueError(\"up_or_down must be 'up' or 'down'\")\n",
    "    cv2.imwrite('up_and_down_img.png', output_img)\n",
    "resize(2, 'up')"
   ]
  },
  {
   "cell_type": "code",
   "execution_count": null,
   "id": "5e3be941-c7b9-48ed-b285-932216219b9c",
   "metadata": {},
   "outputs": [],
   "source": []
  }
 ],
 "metadata": {
  "kernelspec": {
   "display_name": "Python 3 (ipykernel)",
   "language": "python",
   "name": "python3"
  },
  "language_info": {
   "codemirror_mode": {
    "name": "ipython",
    "version": 3
   },
   "file_extension": ".py",
   "mimetype": "text/x-python",
   "name": "python",
   "nbconvert_exporter": "python",
   "pygments_lexer": "ipython3",
   "version": "3.13.5"
  }
 },
 "nbformat": 4,
 "nbformat_minor": 5
}
